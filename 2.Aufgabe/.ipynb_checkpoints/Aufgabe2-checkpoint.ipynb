{
 "cells": [
  {
   "cell_type": "markdown",
   "id": "5f7b3d62-9b31-4616-940e-71b96b85b556",
   "metadata": {},
   "source": [
    "# Aufgane 2\n",
    "## Ahmed Adnan, Nicolas Huhle, Eugen Erb"
   ]
  },
  {
   "cell_type": "code",
   "execution_count": 1,
   "id": "8b1d234b-d516-4918-8eac-8bc3418b3c4b",
   "metadata": {},
   "outputs": [],
   "source": [
    "import numpy as np\n",
    "import matplotlib.pyplot as plt\n",
    "from skimage.io import imread"
   ]
  },
  {
   "cell_type": "markdown",
   "id": "97275248-af5d-43b0-9159-0b06241d8807",
   "metadata": {},
   "source": [
    "\n",
    "### Cumilative Histograms:\n",
    "A histogram counts how many pixels have each intensity (0–255).\n",
    "\n",
    "A cumulative histogram (or CDF) sums those counts up to each intensity value:\n",
    "\n",
    "cdf[i] = hist[0] + hist[1] + ... + hist[i]"
   ]
  },
  {
   "cell_type": "code",
   "execution_count": 3,
   "id": "9c4b1b06-a864-4e7b-807b-07a1ec796157",
   "metadata": {},
   "outputs": [],
   "source": [
    "def compute_cumHisto(image):\n",
    "    \"\"\"\n",
    "    Computes the normalized cumulative histogram (CDF) of an 8-bit grayscale image.\n",
    "    \n",
    "    Parameters:\n",
    "        image (2D numpy array): grayscale image with pixel values in range 0–255\n",
    "\n",
    "    Returns:\n",
    "        cum_histo (1D numpy array of length 256): normalized cumulative histogram\n",
    "    \"\"\"\n",
    "    # initialize histogram (256 bins)\n",
    "    histo = np.zeros(256, dtype=int)\n",
    "    \n",
    "    # fill the histogram\n",
    "    height, width = image.shape\n",
    "    for y in range(height):\n",
    "        for x in range(width):\n",
    "            pixel = image[y, x]\n",
    "            histo[pixel] += 1\n",
    "    \n",
    "    # cumulative sum\n",
    "    cum_histo = np.cumsum(histo)\n",
    "    \n",
    "    # normalize to [0, 1]\n",
    "    cum_histo = cum_histo / cum_histo[-1]  # divide by total number of pixels\n",
    "    \n",
    "    return cum_histo\n"
   ]
  },
  {
   "cell_type": "code",
   "execution_count": null,
   "id": "1af3859f-207e-457f-ba9d-e579547678ce",
   "metadata": {},
   "outputs": [],
   "source": []
  }
 ],
 "metadata": {
  "kernelspec": {
   "display_name": "Python 3 (ipykernel)",
   "language": "python",
   "name": "python3"
  },
  "language_info": {
   "codemirror_mode": {
    "name": "ipython",
    "version": 3
   },
   "file_extension": ".py",
   "mimetype": "text/x-python",
   "name": "python",
   "nbconvert_exporter": "python",
   "pygments_lexer": "ipython3",
   "version": "3.13.1"
  }
 },
 "nbformat": 4,
 "nbformat_minor": 5
}
